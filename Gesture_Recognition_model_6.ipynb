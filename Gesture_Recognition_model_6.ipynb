{
 "cells": [
  {
   "cell_type": "markdown",
   "metadata": {},
   "source": [
    "# Gesture Recognition\n",
    "In this group project, you are going to build a 3D Conv model that will be able to predict the 5 gestures correctly. Please import the following libraries to get started. Once you have completed the code you can download the notebook for making a submission."
   ]
  },
  {
   "cell_type": "code",
   "execution_count": 84,
   "metadata": {},
   "outputs": [],
   "source": [
    "import numpy as np\n",
    "import os\n",
    "from imageio import imread\n",
    "from skimage.transform import resize\n",
    "import datetime\n",
    "import os"
   ]
  },
  {
   "cell_type": "markdown",
   "metadata": {},
   "source": [
    "We set the random seed so that the results don't vary drastically."
   ]
  },
  {
   "cell_type": "code",
   "execution_count": 85,
   "metadata": {},
   "outputs": [],
   "source": [
    "np.random.seed(30)\n",
    "import random as rn\n",
    "rn.seed(30)\n",
    "from tensorflow import keras\n",
    "import tensorflow as tf\n",
    "tf.random.set_seed(30)"
   ]
  },
  {
   "cell_type": "markdown",
   "metadata": {},
   "source": [
    "In this block, you read the folder names for training and validation. You also set the `batch_size` here. Note that you set the batch size in such a way that you are able to use the GPU in full capacity. You keep increasing the batch size until the machine throws an error."
   ]
  },
  {
   "cell_type": "markdown",
   "metadata": {},
   "source": [
    "**data path: /home/datasets/Project_data**"
   ]
  },
  {
   "cell_type": "code",
   "execution_count": 86,
   "metadata": {},
   "outputs": [],
   "source": [
    "train_doc = np.random.permutation(open('/home/datasets/Project_data/train.csv').readlines())\n",
    "val_doc = np.random.permutation(open('/home/datasets/Project_data/val.csv').readlines())\n",
    "batch_size = 50 #experiment with the batch size\n",
    "\n",
    "# defining few important variables\n",
    "image_ht = 120\n",
    "image_wd = 120\n",
    "RGB_Channel = 3\n",
    "img_idx = [0,1,2,4,5,6,8,9,10,12,13,14,16,17,18,20,21,22,24,25,26,28,29] # use this global function in the generator function\n",
    "num_frame_per_input = len(img_idx)\n",
    "\n",
    "input_shape = (num_frame_per_input, image_ht, image_wd, RGB_Channel)\n",
    "number_of_classes = 5 #(thumbs up, thumbs down, move forward, move backward, pause)"
   ]
  },
  {
   "cell_type": "markdown",
   "metadata": {},
   "source": [
    "## Generator\n",
    "This is one of the most important part of the code. The overall structure of the generator has been given. In the generator, you are going to preprocess the images as you have images of 2 different dimensions as well as create a batch of video frames. You have to experiment with `img_idx`, `y`,`z` and normalization such that you get high accuracy."
   ]
  },
  {
   "cell_type": "code",
   "execution_count": 87,
   "metadata": {},
   "outputs": [],
   "source": [
    "def generator(source_path, folder_list, batch_size):\n",
    "    print( 'Source path = ', source_path, '; batch size =', batch_size)\n",
    "    #img_idx = [0,2,4,6,8,10,12,14,16,18,20,22,24,26,28] #create a list of image numbers you want to use for a particular video\n",
    "    x = len(img_idx)\n",
    "    y = image_ht\n",
    "    z = image_wd\n",
    "    while True:\n",
    "        t = np.random.permutation(folder_list)\n",
    "        num_batches = len(folder_list)//batch_size # calculate the number of batches\n",
    "        for batch in range(num_batches): # we iterate over the number of batches\n",
    "            batch_data = np.zeros((batch_size,x,y,z,3)) # x is the number of images you use for each video, (y,z) is the final size of the input images and 3 is the number of channels RGB\n",
    "            batch_labels = np.zeros((batch_size,5)) # batch_labels is the one hot representation of the output\n",
    "            for folder in range(batch_size): # iterate over the batch_size\n",
    "                imgs = os.listdir(source_path+'/'+ t[folder + (batch*batch_size)].split(';')[0]) # read all the images in the folder\n",
    "                for idx,item in enumerate(img_idx): #  Iterate iver the frames/images of a folder to read them in\n",
    "                    image = imread(source_path+'/'+ t[folder + (batch*batch_size)].strip().split(';')[0]+'/'+imgs[item]).astype(np.float32)\n",
    "                    \n",
    "                    #crop the images and resize them. Note that the images are of 2 different shape \n",
    "                    #and the conv3D will throw error if the inputs in a batch have different shapes\n",
    "                    target_size = (y,z)\n",
    "                    resized_image = resize(image, target_size, anti_aliasing=True) #resize function will also normalize the image\n",
    "                    batch_data[folder,idx,:,:,0] = resized_image[:,:,0] #normalise and feed in the image\n",
    "                    batch_data[folder,idx,:,:,1] = resized_image[:,:,1] #normalise and feed in the image\n",
    "                    batch_data[folder,idx,:,:,2] = resized_image[:,:,2] #normalise and feed in the image\n",
    "                    \n",
    "                batch_labels[folder, int(t[folder + (batch*batch_size)].strip().split(';')[2])] = 1\n",
    "            yield batch_data, batch_labels #you yield the batch_data and the batch_labels, remember what does yield do\n",
    "\n",
    "        \n",
    "        # write the code for the remaining data points which are left after full batches\n",
    "        \n",
    "        remaining_folders = len(folder_list)%batch_size\n",
    "        batch = batch + 1 # last batch\n",
    "        batch_data = np.zeros((remaining_folders,x,y,z,3)) # x is the number of images you use for each video, (y,z) is the final size of the input images and 3 is the number of channels RGB\n",
    "        batch_labels = np.zeros((remaining_folders,5)) # batch_labels is the one hot representation of the output\n",
    "        for folder in range(remaining_folders): # iterating over the remaining folders\n",
    "            imgs = os.listdir(source_path+'/'+ t[folder + (batch*batch_size)].split(';')[0]) # read all the images in the folder\n",
    "            for idx,item in enumerate(img_idx): #  Iterate iver the frames/images of a folder to read them in\n",
    "                image = imread(source_path+'/'+ t[folder + (batch*batch_size)].strip().split(';')[0]+'/'+imgs[item]).astype(np.float32)\n",
    "\n",
    "                #crop the images and resize them. Note that the images are of 2 different shape \n",
    "                #and the conv3D will throw error if the inputs in a batch have different shapes\n",
    "                target_size = (y,z)\n",
    "                resized_image = resize(image, target_size, anti_aliasing=True) #resize function will also normalize the image\n",
    "\n",
    "                batch_data[folder,idx,:,:,0] = resized_image[:,:,0] #normalise and feed in the image\n",
    "                batch_data[folder,idx,:,:,1] = resized_image[:,:,1] #normalise and feed in the image\n",
    "                batch_data[folder,idx,:,:,2] = resized_image[:,:,2] #normalise and feed in the image\n",
    "\n",
    "            batch_labels[folder, int(t[folder + (batch*batch_size)].strip().split(';')[2])] = 1\n",
    "        yield batch_data, batch_labels #you yield the batch_data and the batch_labels, remember what does yield do\n",
    "            "
   ]
  },
  {
   "cell_type": "markdown",
   "metadata": {},
   "source": [
    "Note here that a video is represented above in the generator as (number of images, height, width, number of channels). Take this into consideration while creating the model architecture."
   ]
  },
  {
   "cell_type": "code",
   "execution_count": 88,
   "metadata": {},
   "outputs": [
    {
     "name": "stdout",
     "output_type": "stream",
     "text": [
      "# training sequences = 663\n",
      "# validation sequences = 100\n",
      "# epochs = 30\n"
     ]
    }
   ],
   "source": [
    "curr_dt_time = datetime.datetime.now()\n",
    "train_path = '/home/datasets/Project_data/train'\n",
    "val_path = '/home/datasets/Project_data/val'\n",
    "num_train_sequences = len(train_doc)\n",
    "print('# training sequences =', num_train_sequences)\n",
    "num_val_sequences = len(val_doc)\n",
    "print('# validation sequences =', num_val_sequences)\n",
    "num_epochs = 30 # choose the number of epochs\n",
    "print ('# epochs =', num_epochs)"
   ]
  },
  {
   "cell_type": "markdown",
   "metadata": {},
   "source": [
    "## Model\n",
    "Here you make the model using different functionalities that Keras provides. Remember to use `Conv3D` and `MaxPooling3D` and not `Conv2D` and `Maxpooling2D` for a 3D convolution model. You would want to use `TimeDistributed` while building a Conv2D + RNN model. Also remember that the last layer is the softmax. Design the network in such a way that the model is able to give good accuracy on the least number of parameters so that it can fit in the memory of the webcam."
   ]
  },
  {
   "cell_type": "code",
   "execution_count": 89,
   "metadata": {},
   "outputs": [],
   "source": [
    "from tensorflow.keras.models import Sequential\n",
    "from tensorflow.keras.layers import Dense, GRU, Dropout, Flatten, BatchNormalization, Activation, Conv3D, MaxPooling3D\n",
    "from tensorflow.keras.callbacks import ModelCheckpoint, ReduceLROnPlateau\n",
    "from tensorflow.keras import optimizers\n",
    "from tensorflow.keras import layers, models\n",
    "\n",
    "#write your model here\n",
    "\n",
    "\n",
    "model = models.Sequential(\n",
    "[\n",
    "    # 1st Conv3D layer\n",
    "    layers.Conv3D(filters=32, kernel_size=(3, 3, 3), activation='relu', input_shape=input_shape),\n",
    "    layers.MaxPooling3D(pool_size=(2, 2, 2)),\n",
    "    layers.BatchNormalization(),\n",
    "    layers.Dropout(0.25),\n",
    "    \n",
    "    # 2nd Conv3D layer\n",
    "    layers.Conv3D(filters=64, kernel_size=(3, 3, 3), activation='relu'),\n",
    "    layers.MaxPooling3D(pool_size=(2, 2, 2)),\n",
    "    layers.BatchNormalization(),\n",
    "    layers.Dropout(0.25),\n",
    "    \n",
    "     # 3rd Conv3D layer\n",
    "    layers.Conv3D(filters=128, kernel_size=(3, 3, 3), activation='relu'),\n",
    "    layers.MaxPooling3D(pool_size=(2, 2, 2)),\n",
    "    layers.BatchNormalization(),\n",
    "    layers.Dropout(0.25),\n",
    "    \n",
    "    # Flattening Layer\n",
    "    layers.Flatten(),\n",
    "    \n",
    "    layers.Dense(256, activation='relu'),\n",
    "    layers.Dropout(0.4),\n",
    "    \n",
    "    layers.Dense(128, activation='relu'),\n",
    "    layers.Dropout(0.4),\n",
    "\n",
    "    layers.Dense(64, activation='relu'),\n",
    "    layers.Dropout(0.4),\n",
    "\n",
    "    # Output Layer\n",
    "    layers.Dense(number_of_classes, activation='softmax')\n",
    "    \n",
    "    \n",
    "])\n",
    "\n"
   ]
  },
  {
   "cell_type": "markdown",
   "metadata": {},
   "source": [
    "Now that you have written the model, the next step is to `compile` the model. When you print the `summary` of the model, you'll see the total number of parameters you have to train."
   ]
  },
  {
   "cell_type": "code",
   "execution_count": 90,
   "metadata": {
    "scrolled": true
   },
   "outputs": [
    {
     "name": "stdout",
     "output_type": "stream",
     "text": [
      "Model: \"sequential_9\"\n",
      "_________________________________________________________________\n",
      " Layer (type)                Output Shape              Param #   \n",
      "=================================================================\n",
      " conv3d_37 (Conv3D)          (None, 21, 118, 118, 32)  2624      \n",
      "                                                                 \n",
      " max_pooling3d_37 (MaxPoolin  (None, 10, 59, 59, 32)   0         \n",
      " g3D)                                                            \n",
      "                                                                 \n",
      " batch_normalization_37 (Bat  (None, 10, 59, 59, 32)   128       \n",
      " chNormalization)                                                \n",
      "                                                                 \n",
      " dropout_66 (Dropout)        (None, 10, 59, 59, 32)    0         \n",
      "                                                                 \n",
      " conv3d_38 (Conv3D)          (None, 8, 57, 57, 64)     55360     \n",
      "                                                                 \n",
      " max_pooling3d_38 (MaxPoolin  (None, 4, 28, 28, 64)    0         \n",
      " g3D)                                                            \n",
      "                                                                 \n",
      " batch_normalization_38 (Bat  (None, 4, 28, 28, 64)    256       \n",
      " chNormalization)                                                \n",
      "                                                                 \n",
      " dropout_67 (Dropout)        (None, 4, 28, 28, 64)     0         \n",
      "                                                                 \n",
      " conv3d_39 (Conv3D)          (None, 2, 26, 26, 128)    221312    \n",
      "                                                                 \n",
      " max_pooling3d_39 (MaxPoolin  (None, 1, 13, 13, 128)   0         \n",
      " g3D)                                                            \n",
      "                                                                 \n",
      " batch_normalization_39 (Bat  (None, 1, 13, 13, 128)   512       \n",
      " chNormalization)                                                \n",
      "                                                                 \n",
      " dropout_68 (Dropout)        (None, 1, 13, 13, 128)    0         \n",
      "                                                                 \n",
      " flatten_9 (Flatten)         (None, 21632)             0         \n",
      "                                                                 \n",
      " dense_39 (Dense)            (None, 256)               5538048   \n",
      "                                                                 \n",
      " dropout_69 (Dropout)        (None, 256)               0         \n",
      "                                                                 \n",
      " dense_40 (Dense)            (None, 128)               32896     \n",
      "                                                                 \n",
      " dropout_70 (Dropout)        (None, 128)               0         \n",
      "                                                                 \n",
      " dense_41 (Dense)            (None, 64)                8256      \n",
      "                                                                 \n",
      " dropout_71 (Dropout)        (None, 64)                0         \n",
      "                                                                 \n",
      " dense_42 (Dense)            (None, 5)                 325       \n",
      "                                                                 \n",
      "=================================================================\n",
      "Total params: 5,859,717\n",
      "Trainable params: 5,859,269\n",
      "Non-trainable params: 448\n",
      "_________________________________________________________________\n",
      "None\n"
     ]
    }
   ],
   "source": [
    "optimiser = 'adam' #write your optimizer\n",
    "model.compile(optimizer=optimiser, loss='categorical_crossentropy', metrics=['categorical_accuracy'])\n",
    "print (model.summary())"
   ]
  },
  {
   "cell_type": "markdown",
   "metadata": {},
   "source": [
    "Let us create the `train_generator` and the `val_generator` which will be used in `.fit_generator`."
   ]
  },
  {
   "cell_type": "code",
   "execution_count": 91,
   "metadata": {},
   "outputs": [],
   "source": [
    "train_generator = generator(train_path, train_doc, batch_size)\n",
    "val_generator = generator(val_path, val_doc, batch_size)"
   ]
  },
  {
   "cell_type": "code",
   "execution_count": 92,
   "metadata": {},
   "outputs": [],
   "source": [
    "model_name = 'model_1' + '_' + str(curr_dt_time).replace(' ','').replace(':','_') + '/'\n",
    "    \n",
    "if not os.path.exists(model_name):\n",
    "    os.mkdir(model_name)\n",
    "        \n",
    "filepath = model_name + 'model-{epoch:05d}-{loss:.5f}-{categorical_accuracy:.5f}-{val_loss:.5f}-{val_categorical_accuracy:.5f}.h5'\n",
    "\n",
    "checkpoint = ModelCheckpoint(filepath, monitor='val_loss', verbose=1, save_best_only=False, save_weights_only=False, mode='auto',save_freq = num_epochs)\n",
    "\n",
    "# write the REducelronplateau code here\n",
    "LR = ReduceLROnPlateau(\n",
    "    monitor='val_loss',    # Metric to be monitored\n",
    "    factor=0.5,            # Factor by which the learning rate will be reduced\n",
    "    patience=3,            # Number of epochs with no improvement after which learning rate will be reduced\n",
    "    min_lr=1e-6,           # Lower bound on the learning rate\n",
    "    verbose=1              # Print a message when the learning rate is reduced\n",
    ")\n",
    "callbacks_list = [checkpoint, LR]"
   ]
  },
  {
   "cell_type": "markdown",
   "metadata": {},
   "source": [
    "The `steps_per_epoch` and `validation_steps` are used by `fit` method to decide the number of next() calls it need to make."
   ]
  },
  {
   "cell_type": "code",
   "execution_count": 93,
   "metadata": {},
   "outputs": [],
   "source": [
    "if (num_train_sequences%batch_size) == 0:\n",
    "    steps_per_epoch = int(num_train_sequences/batch_size)\n",
    "else:\n",
    "    steps_per_epoch = (num_train_sequences//batch_size) + 1\n",
    "\n",
    "if (num_val_sequences%batch_size) == 0:\n",
    "    validation_steps = int(num_val_sequences/batch_size)\n",
    "else:\n",
    "    validation_steps = (num_val_sequences//batch_size) + 1"
   ]
  },
  {
   "cell_type": "markdown",
   "metadata": {},
   "source": [
    "Let us now fit the model. This will start training the model and with the help of the checkpoints, you'll be able to save the model at the end of each epoch."
   ]
  },
  {
   "cell_type": "code",
   "execution_count": 94,
   "metadata": {},
   "outputs": [
    {
     "name": "stdout",
     "output_type": "stream",
     "text": [
      "Source path =  /home/datasets/Project_data/train ; batch size = 50\n",
      "Epoch 1/30\n",
      "14/14 [==============================] - ETA: 0s - loss: 3.1920 - categorical_accuracy: 0.2866Source path =  /home/datasets/Project_data/val ; batch size = 50\n",
      "14/14 [==============================] - 109s 8s/step - loss: 3.1920 - categorical_accuracy: 0.2866 - val_loss: 45.1467 - val_categorical_accuracy: 0.2300\n",
      "Epoch 2/30\n",
      "14/14 [==============================] - 106s 8s/step - loss: 2.5284 - categorical_accuracy: 0.3107 - val_loss: 57.5383 - val_categorical_accuracy: 0.2300\n",
      "Epoch 3/30\n",
      "14/14 [==============================] - 108s 8s/step - loss: 2.1346 - categorical_accuracy: 0.3937 - val_loss: 30.9235 - val_categorical_accuracy: 0.2300\n",
      "Epoch 4/30\n",
      "14/14 [==============================] - 107s 8s/step - loss: 1.9580 - categorical_accuracy: 0.3771 - val_loss: 4.2777 - val_categorical_accuracy: 0.2400\n",
      "Epoch 5/30\n",
      "14/14 [==============================] - 106s 8s/step - loss: 1.8572 - categorical_accuracy: 0.4178 - val_loss: 9.6730 - val_categorical_accuracy: 0.3100\n",
      "Epoch 6/30\n",
      "14/14 [==============================] - 106s 8s/step - loss: 1.6839 - categorical_accuracy: 0.4118 - val_loss: 4.4524 - val_categorical_accuracy: 0.2300\n",
      "Epoch 7/30\n",
      "14/14 [==============================] - 105s 8s/step - loss: 1.5028 - categorical_accuracy: 0.4630 - val_loss: 8.8088 - val_categorical_accuracy: 0.2300\n",
      "Epoch 8/30\n",
      "14/14 [==============================] - 107s 8s/step - loss: 1.4568 - categorical_accuracy: 0.4706 - val_loss: 4.5625 - val_categorical_accuracy: 0.2400\n",
      "Epoch 9/30\n",
      "14/14 [==============================] - 106s 8s/step - loss: 1.3405 - categorical_accuracy: 0.5173 - val_loss: 2.2808 - val_categorical_accuracy: 0.3400\n",
      "Epoch 10/30\n",
      "14/14 [==============================] - 107s 8s/step - loss: 1.2540 - categorical_accuracy: 0.5505 - val_loss: 3.0781 - val_categorical_accuracy: 0.3200\n",
      "Epoch 11/30\n",
      "14/14 [==============================] - 107s 8s/step - loss: 1.1944 - categorical_accuracy: 0.5430 - val_loss: 1.9709 - val_categorical_accuracy: 0.3900\n",
      "Epoch 12/30\n",
      "14/14 [==============================] - 106s 8s/step - loss: 1.1841 - categorical_accuracy: 0.5370 - val_loss: 8.4760 - val_categorical_accuracy: 0.2300\n",
      "Epoch 13/30\n",
      "14/14 [==============================] - 115s 9s/step - loss: 1.2091 - categorical_accuracy: 0.5596 - val_loss: 5.4591 - val_categorical_accuracy: 0.2400\n",
      "Epoch 14/30\n",
      "14/14 [==============================] - 116s 9s/step - loss: 1.0708 - categorical_accuracy: 0.5913 - val_loss: 1.7420 - val_categorical_accuracy: 0.4000\n",
      "Epoch 15/30\n",
      "14/14 [==============================] - 111s 9s/step - loss: 0.9787 - categorical_accuracy: 0.6425 - val_loss: 1.0403 - val_categorical_accuracy: 0.6300\n",
      "Epoch 16/30\n",
      "14/14 [==============================] - 109s 8s/step - loss: 0.8809 - categorical_accuracy: 0.6667 - val_loss: 1.3197 - val_categorical_accuracy: 0.5800\n",
      "Epoch 17/30\n",
      "14/14 [==============================] - 107s 8s/step - loss: 0.8716 - categorical_accuracy: 0.6833 - val_loss: 0.8877 - val_categorical_accuracy: 0.6500\n",
      "Epoch 18/30\n",
      "14/14 [==============================] - 108s 8s/step - loss: 0.8747 - categorical_accuracy: 0.6817 - val_loss: 1.0374 - val_categorical_accuracy: 0.7000\n",
      "Epoch 19/30\n",
      "14/14 [==============================] - 107s 8s/step - loss: 0.8763 - categorical_accuracy: 0.6848 - val_loss: 1.2386 - val_categorical_accuracy: 0.6400\n",
      "Epoch 20/30\n",
      "14/14 [==============================] - 107s 8s/step - loss: 0.8041 - categorical_accuracy: 0.6682 - val_loss: 0.9929 - val_categorical_accuracy: 0.6500\n",
      "Epoch 21/30\n",
      "14/14 [==============================] - 106s 8s/step - loss: 0.7601 - categorical_accuracy: 0.7179 - val_loss: 1.6907 - val_categorical_accuracy: 0.5400\n",
      "Epoch 22/30\n",
      "14/14 [==============================] - 103s 8s/step - loss: 0.7321 - categorical_accuracy: 0.7345 - val_loss: 1.5774 - val_categorical_accuracy: 0.6000\n",
      "Epoch 23/30\n",
      "14/14 [==============================] - 104s 8s/step - loss: 0.6221 - categorical_accuracy: 0.7677 - val_loss: 1.8281 - val_categorical_accuracy: 0.5800\n",
      "Epoch 24/30\n",
      "14/14 [==============================] - 107s 8s/step - loss: 0.5305 - categorical_accuracy: 0.7979 - val_loss: 1.0725 - val_categorical_accuracy: 0.6500\n",
      "Epoch 25/30\n",
      "14/14 [==============================] - 107s 8s/step - loss: 0.5594 - categorical_accuracy: 0.8084 - val_loss: 0.8383 - val_categorical_accuracy: 0.7300\n",
      "Epoch 26/30\n",
      "14/14 [==============================] - 106s 8s/step - loss: 0.4868 - categorical_accuracy: 0.8416 - val_loss: 0.9251 - val_categorical_accuracy: 0.6500\n",
      "Epoch 27/30\n",
      "14/14 [==============================] - 107s 8s/step - loss: 0.5993 - categorical_accuracy: 0.7843 - val_loss: 1.1270 - val_categorical_accuracy: 0.6600\n",
      "Epoch 28/30\n",
      "14/14 [==============================] - 109s 8s/step - loss: 0.6374 - categorical_accuracy: 0.7888 - val_loss: 0.9838 - val_categorical_accuracy: 0.5600\n",
      "Epoch 29/30\n",
      "14/14 [==============================] - 106s 8s/step - loss: 0.5144 - categorical_accuracy: 0.8175 - val_loss: 1.7975 - val_categorical_accuracy: 0.4300\n",
      "Epoch 30/30\n",
      "14/14 [==============================] - 108s 8s/step - loss: 0.5283 - categorical_accuracy: 0.8100 - val_loss: 0.8600 - val_categorical_accuracy: 0.7500\n"
     ]
    },
    {
     "data": {
      "text/plain": [
       "<keras.callbacks.History at 0x7f2141bbd610>"
      ]
     },
     "execution_count": 94,
     "metadata": {},
     "output_type": "execute_result"
    }
   ],
   "source": [
    "model.fit(train_generator,\n",
    "          steps_per_epoch=steps_per_epoch,\n",
    "          epochs=num_epochs, \n",
    "          verbose=1,\n",
    "          #callbacks=callbacks_list,\n",
    "          validation_data=val_generator,\n",
    "          validation_steps=validation_steps,\n",
    "          class_weight=None,\n",
    "          workers=1,\n",
    "          initial_epoch=0)"
   ]
  },
  {
   "cell_type": "code",
   "execution_count": 95,
   "metadata": {},
   "outputs": [],
   "source": [
    "model.save('model_6.h5')"
   ]
  },
  {
   "cell_type": "code",
   "execution_count": null,
   "metadata": {},
   "outputs": [],
   "source": []
  }
 ],
 "metadata": {
  "kernelspec": {
   "display_name": "Python 3 (ipykernel)",
   "language": "python",
   "name": "python3"
  },
  "language_info": {
   "codemirror_mode": {
    "name": "ipython",
    "version": 3
   },
   "file_extension": ".py",
   "mimetype": "text/x-python",
   "name": "python",
   "nbconvert_exporter": "python",
   "pygments_lexer": "ipython3",
   "version": "3.11.4"
  }
 },
 "nbformat": 4,
 "nbformat_minor": 4
}
